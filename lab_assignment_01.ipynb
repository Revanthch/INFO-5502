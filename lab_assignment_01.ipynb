{
  "cells": [
    {
      "cell_type": "markdown",
      "metadata": {
        "id": "view-in-github",
        "colab_type": "text"
      },
      "source": [
        "<a href=\"https://colab.research.google.com/github/Revanthch/INFO-5502/blob/main/lab_assignment_01.ipynb\" target=\"_parent\"><img src=\"https://colab.research.google.com/assets/colab-badge.svg\" alt=\"Open In Colab\"/></a>"
      ]
    },
    {
      "cell_type": "markdown",
      "metadata": {
        "id": "DymRJbxDBCnf"
      },
      "source": [
        "# **The first Lab-assignment (07/15/2022 11:59'AM' to 7/19/2022 11:59PM, 50 points in total)**"
      ]
    },
    {
      "cell_type": "markdown",
      "metadata": {
        "id": "jJDe71iLB616"
      },
      "source": [
        "(1) Write a Python program to count the number of characters in a string. (6 points)\n",
        "\n",
        "Sample String : 'google.com', \n",
        "\n",
        "Expected Result : {'o': 3, 'g': 2, '.': 1, 'e': 1, 'l': 1, 'm': 1, 'c': 1}"
      ]
    },
    {
      "cell_type": "code",
      "execution_count": 1,
      "metadata": {
        "colab": {
          "base_uri": "https://localhost:8080/"
        },
        "id": "MtKskTzbCLaU",
        "outputId": "91175ff3-956e-40dd-b01d-167e90e9a423"
      },
      "outputs": [
        {
          "output_type": "stream",
          "name": "stdout",
          "text": [
            "Enter StringpinEapple\n",
            "{'p': 3, 'i': 1, 'n': 1, 'E': 1, 'a': 1, 'l': 1, 'e': 1}\n"
          ]
        }
      ],
      "source": [
        "# write your answer here\n",
        "import pandas as pd\n",
        "\n",
        "strng = input('Enter String')\n",
        "\n",
        "dict={}\n",
        "\n",
        "d =  pd.Series(list(strng)).value_counts()  #This will convert the string into list and for each character in the list it will count number of occurences\n",
        "\n",
        "dict=d.to_dict()\n",
        "\n",
        "print(dict)"
      ]
    },
    {
      "cell_type": "markdown",
      "metadata": {
        "id": "55W9AMdXCSpV"
      },
      "source": [
        "(2) Write a Python program to sum all the items in a list. (6 points)"
      ]
    },
    {
      "cell_type": "code",
      "execution_count": 4,
      "metadata": {
        "colab": {
          "base_uri": "https://localhost:8080/"
        },
        "id": "I57NXsauCec2",
        "outputId": "bafdda22-3cb4-4361-8e6e-40b062823e5d"
      },
      "outputs": [
        {
          "output_type": "stream",
          "name": "stdout",
          "text": [
            "Enter the elements in the list:4\n",
            "5\n",
            "8\n",
            "6\n",
            "2\n",
            "21\n"
          ]
        }
      ],
      "source": [
        "# write your answer here\n",
        "l=0\n",
        "\n",
        "Sum=0\n",
        "n=int(input(\"Enter the elements in the list:\") )#number of elements in list\n",
        "for i in range(n):\n",
        "    l=int(input()) #input list\n",
        "    Sum=Sum+l  #sum of the elements in the list\n",
        "print(Sum)\n"
      ]
    },
    {
      "cell_type": "markdown",
      "metadata": {
        "id": "4ulBZ6yhCi9F"
      },
      "source": [
        "(3) Write a Python program to get a string from a given string where all occurrences of its first char have been changed to '\\$', except the first char itself. (6 points)\n",
        "\n",
        "Sample String : 'restart', \n",
        "\n",
        "Expected Result : 'resta\\$t'"
      ]
    },
    {
      "cell_type": "code",
      "execution_count": 5,
      "metadata": {
        "colab": {
          "base_uri": "https://localhost:8080/"
        },
        "id": "Fj0XhwbBCw2o",
        "outputId": "28ee4640-339f-42ab-f7df-6cc925fde1d7"
      },
      "outputs": [
        {
          "output_type": "stream",
          "name": "stdout",
          "text": [
            "Enter the string value:revanthchiliveru\n",
            "revanthc$il$$$$u\n"
          ]
        }
      ],
      "source": [
        "# write your answer here\n",
        "string=input(\"Enter the string value:\")\n",
        "for i in range(len(string)):\n",
        "    for j in range(i+1,len(string)):\n",
        "        if(string[i]==string[j]):\n",
        "            string=string[:j]+'$'+string[j+1:]\n",
        "print(string)"
      ]
    },
    {
      "cell_type": "markdown",
      "metadata": {
        "id": "_bIP7s1MCzue"
      },
      "source": [
        "(4) Write a program with python which could accept two parameter a and b to calculate and output the result of S, where \n",
        "\n",
        "$\\ S=3.14*(1+a/b)^3$ (6 points)\n",
        "\n"
      ]
    },
    {
      "cell_type": "code",
      "execution_count": null,
      "metadata": {
        "id": "w79QilHXD3Mg"
      },
      "outputs": [],
      "source": [
        "# write your answer here\n",
        "a=int(input(\"Enter value of a:\"))\n",
        "b=int(input(\"Enter value of b:\"))\n",
        "S=3.14*pow(1+a/b,3)\n",
        "print (S)\n"
      ]
    },
    {
      "cell_type": "markdown",
      "metadata": {
        "id": "xCa2bK9aD4Q3"
      },
      "source": [
        "(5) Write a Python program to concatenate following dictionaries to create a new one. (6 points)\n",
        "\n",
        "Sample Dictionary : dic1={1:10, 2:20}, dic2={3:30, 4:40}, dic3={5:50,6:60}, \n",
        "\n",
        "Expected Result : {1: 10, 2: 20, 3: 30, 4: 40, 5: 50, 6: 60}\n"
      ]
    },
    {
      "cell_type": "code",
      "execution_count": null,
      "metadata": {
        "id": "_z4aLqAbEET1"
      },
      "outputs": [],
      "source": [
        "# write your answer here\n",
        "d1={1:10,2:20}\n",
        "d2={3:30,4:40}\n",
        "d3={5:50,6:60}\n",
        "d4={}\n",
        "d4.update(d1)\n",
        "d4.update(d2)\n",
        "d4.update(d3)\n",
        "print(d4)\n"
      ]
    },
    {
      "cell_type": "markdown",
      "metadata": {
        "id": "0v48Vqa7FrQh"
      },
      "source": [
        "(6) Write a Python program to check whether an element exists within a tuple. (6 points)"
      ]
    },
    {
      "cell_type": "code",
      "execution_count": null,
      "metadata": {
        "id": "7WEmgq-DF2P1"
      },
      "outputs": [],
      "source": [
        "# write your answer here\n",
        "tuple1=input('Enter elements in tuples:')\n",
        "find=input()\n",
        "if find in tuple1:\n",
        "    print(find, \" exists in tuple\")\n",
        "else:\n",
        "    print(find, \"does not exists in tuple\")"
      ]
    },
    {
      "cell_type": "markdown",
      "metadata": {
        "id": "vD5PYLMuGga_"
      },
      "source": [
        "(7) Write a Python program to find maximum and the minimum value in a set. (6 points)"
      ]
    },
    {
      "cell_type": "code",
      "execution_count": null,
      "metadata": {
        "id": "t0D5kdJUGjjw"
      },
      "outputs": [],
      "source": [
        "# write your answer here\n",
        "S={9,0,4,3,2,5}\n",
        "print(\"minimum value in a set is\", min(S))\n",
        "print(\"maximium value in a set is\", max(S))"
      ]
    },
    {
      "cell_type": "markdown",
      "metadata": {
        "id": "KtHk_4bzTzZt"
      },
      "source": [
        "(8) Write a Python program to find the duplicate elements in a given array of integers. Return -1 If there are no such elements. (8 points)"
      ]
    },
    {
      "cell_type": "code",
      "execution_count": null,
      "metadata": {
        "id": "FjX8pJnrTzZt"
      },
      "outputs": [],
      "source": [
        "# write your answer here\n",
        "l=[1,2,3,4,5]\n",
        "r=[]\n",
        "for i in range(0,len(l)):\n",
        "    for j in range(i+1,len(l)):\n",
        "        if(l[i]==l[j]):\n",
        "            if l[j] not in r:\n",
        "                r.append(l[j])\n",
        "if(r!=[]):\n",
        "    print(r)\n",
        "else:\n",
        "    print(\"-1\") #if no duplicate elements then print -1\n",
        "    from datetime import date\n",
        "import calendar\n",
        "year=int(input()) # input for year \n",
        "c=calendar.TextCalendar(calendar.SUNDAY)\n",
        "for i in range(1,13):\n",
        "    for j in c.itermonthdays(year,i):\n",
        "        if j!=0:\n",
        "            day=date(year,i,j)\n",
        "            if day.weekday()==6:\n",
        "                print(\"%d-%d-%d\" % (j,i,year ))\n",
        "    print(\"---------------\")\n"
      ]
    }
  ],
  "metadata": {
    "colab": {
      "collapsed_sections": [],
      "name": "lab_assignment_01.ipynb",
      "provenance": [],
      "include_colab_link": true
    },
    "kernelspec": {
      "display_name": "Python 3 (ipykernel)",
      "language": "python",
      "name": "python3"
    },
    "language_info": {
      "codemirror_mode": {
        "name": "ipython",
        "version": 3
      },
      "file_extension": ".py",
      "mimetype": "text/x-python",
      "name": "python",
      "nbconvert_exporter": "python",
      "pygments_lexer": "ipython3",
      "version": "3.9.12"
    },
    "vscode": {
      "interpreter": {
        "hash": "5c6a7f839effdddf35473dacbb9a8184e57ebbba5133cab03b12e4f28d4f0d0f"
      }
    }
  },
  "nbformat": 4,
  "nbformat_minor": 0
}