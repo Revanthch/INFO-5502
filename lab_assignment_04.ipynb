{
  "cells": [
    {
      "cell_type": "markdown",
      "metadata": {
        "id": "view-in-github",
        "colab_type": "text"
      },
      "source": [
        "<a href=\"https://colab.research.google.com/github/Revanthch/INFO-5502/blob/main/lab_assignment_04.ipynb\" target=\"_parent\"><img src=\"https://colab.research.google.com/assets/colab-badge.svg\" alt=\"Open In Colab\"/></a>"
      ]
    },
    {
      "cell_type": "markdown",
      "metadata": {
        "id": "zaA3N-6KTwtk"
      },
      "source": [
        "## The fourth Lab-assignment (07/26/2022 11:59'AM' - 07/29/2022 11:59PM, 50 points in total)"
      ]
    },
    {
      "cell_type": "markdown",
      "metadata": {
        "id": "63iliDpZTwto"
      },
      "source": [
        "The purpose of this exercise is to understand Exploratory Data Analysis, we will practice the EDA by working on multiple datasets which have different characteristics."
      ]
    },
    {
      "cell_type": "markdown",
      "metadata": {
        "id": "Qrj1ypwqTwto"
      },
      "source": [
        "Question 1 (10 points). Understand a text corpus for domain-specific text classification. Download the dataset from the following link: https://osf.io/8mjcy/ . Conduct EDA of the dataset from the following aspects:\n",
        "\n",
        "(1) How many categories in total?\n",
        "\n",
        "(2) How many documents under each category?\n"
      ]
    },
    {
      "cell_type": "code",
      "execution_count": null,
      "metadata": {
        "id": "lTC5eqTGTwtp"
      },
      "outputs": [],
      "source": [
        "# Your answer here (code + explanation):\n",
        "#import libraries\n",
        "import os\n",
        "from nltk.tokenize import sent_tokenize\n",
        "from nltk.tokenize import word_tokenize\n",
        "from nltk.corpus import PlaintextCorpusReader\n",
        "import nltk\n",
        "#download the required\n",
        "nltk.download('stopwords')\n",
        "nltk.download('wordnet')\n",
        "nltk.download('punkt')\n",
        "nltk.download('averaged_perceptron_tagger') \n",
        "\n",
        "#1 How many categories in total?\n",
        "\n",
        "path = os.listdir(\"/content/gdrive/My Drive/preprocessed_cases[cases_29404]\")\n",
        "print('The number of categories present are {}'.format(len(path)))\n"
      ]
    },
    {
      "cell_type": "code",
      "source": [
        "#2 How many documents under each category?\n",
        "\n",
        "for r in path: #for loop\n",
        "  doc = os.listdir(\"/content/gdrive/My Drive/preprocessed_cases[cases_29404]/{}\".format((r)))\n",
        "  print('In file {} we have {}  number of documents'.format(r,len(doc)))"
      ],
      "metadata": {
        "id": "6I7DS28JUVPr"
      },
      "execution_count": null,
      "outputs": []
    },
    {
      "cell_type": "markdown",
      "metadata": {
        "id": "bK28FOrTTwtq"
      },
      "source": [
        "Question 2 (40 points). Continue practicing how to do simple exploratory data analysis with Python. The dataset that has been used in this question is called Student Academics Performance Data Set, which can be downloaded at: https://github.com/suthapalliuday/INFO5502-Summer2022/blob/main/datasets/lab-assignment-04-student-performance.csv . Please conduct the following analysis:\n",
        "\n",
        "(1) Description of all the columns: for each colmun, count number of rows, number of unqiue element, the frequency of each unqiue element. \n",
        "\n",
        "\n",
        "(2)  Visualize the count for each value in the 'Study Hours' column. Note: Study Hours values comes from this >= 6 hours Good >= 4 hours Average < 2 hours Poor.\n",
        "\n",
        "(3) Using factorplot to show the relationship between numerical and categorical value. Please use figure to show relation between [Study Hours] and [End Semester Percentage]. Percentage is calculated based on the following:\n",
        "\n",
        "if percentage >=80 then Best\n",
        "If percentage >= 60 but less than 80 then Very Good\n",
        "If percentage >= 45 but less than 60 then Good\n",
        "If Percentage >= 30 but less than 45 then Pass\n",
        "If Percentage < 30 then Fail\n",
        "\n",
        "(4) Get the correlation from the data, then plug it to heatmap function and show it as following:\n",
        "\n",
        "![heatmap.png](attachment:heatmap.png)"
      ]
    },
    {
      "cell_type": "markdown",
      "metadata": {
        "id": "oiCRa9GZTwtr"
      },
      "source": [
        "# Your answer here (code + explanation):\n",
        "\n",
        "\n",
        "\n",
        "\n",
        "\n",
        "\n"
      ]
    },
    {
      "cell_type": "code",
      "source": [
        "import pandas as pd\n",
        "#the inputs is given as a url from git \n",
        "inputs = 'https://raw.githubusercontent.com/unt-iialab/info5502-spring2022/main/datasets/lab-assignment-04-student-performance.csv'\n",
        "#reading the inputs\n",
        "data_frame = pd.read_csv(inputs)\n",
        "\n",
        "#Looping files to get the required details\n",
        "for ver in data_frame.columns:\n",
        "    print(\"Column is:\",ver)\n",
        "    print(\"Number of rows are:\", data_frame[ver].shape[0])\n",
        "    print(\"Number of unique values:\", data_frame[ver].value_counts().shape[0])\n",
        "    print(data_frame[ver].value_counts())\n",
        "    print()"
      ],
      "metadata": {
        "id": "NQNi8daoUzZp"
      },
      "execution_count": null,
      "outputs": []
    },
    {
      "cell_type": "code",
      "source": [
        "\n",
        "import seaborn as sns\n",
        "import matplotlib.pyplot as plt\n",
        "%matplotlib inline\n",
        "sns.countplot(data_frame['sh'])  \n",
        "plt.xlabel(\"Study Hours\")\n",
        "plt.ylabel(\"Count\")\n",
        "plt.show()"
      ],
      "metadata": {
        "id": "LnvuF5aGVEet"
      },
      "execution_count": null,
      "outputs": []
    },
    {
      "cell_type": "code",
      "source": [
        "import pandas as pd\n",
        "import seaborn as sb\n",
        "from matplotlib import pyplot as plt\n",
        "df1 = pd.DataFrame()\n",
        "df1['Study']=pd.DataFrame(data_frame.sh) \n",
        "df1['esp']=pd.DataFrame(data_frame.esp)\n",
        "df1['esp'].mask(df1['esp'] == 'Best', 80, inplace=True)\n",
        "df1['esp'].mask(df1['esp'] == 'Vg', 60, inplace=True)\n",
        "df1['esp'].mask(df1['esp'] == 'Good', 45, inplace=True)\n",
        "df1['esp'].mask(df1['esp'] == 'Pass', 30, inplace=True)\n",
        "df1['esp'].mask(df1['esp'] == 'Fail', 30, inplace=True)\n",
        "df1['exampercent']=pd.DataFrame(data_frame.esp)\n",
        "sns.factorplot(x='Study',y='esp', kind = 'strip',data=df1)\n",
        "plt.show()"
      ],
      "metadata": {
        "id": "a8ZxnaN3VPHB"
      },
      "execution_count": null,
      "outputs": []
    },
    {
      "cell_type": "code",
      "source": [
        "from sklearn import preprocessing\n",
        "import seaborn as sns\n",
        "encoder_label = preprocessing.LabelEncoder()  \n",
        "def Encoder(data_frame):\n",
        "    columns_to_Encode = list(data_frame.select_dtypes(include=['category','object']))\n",
        "    rec = preprocessing.LabelEncoder()\n",
        "   \n",
        "    for feature in columns_to_Encode:\n",
        "        try:\n",
        "            data_frame[feature] = rec.fit_transform(data_frame[feature]) #transformation\n",
        "        except:\n",
        "            print('Error encoding '+feature)\n",
        "    return data_frame\n",
        "\n",
        "df1 = Encoder(data_frame)\n",
        "df1 = df1.drop('ms', axis = 1) \n",
        "\n",
        "correlation_data = df1.corr() \n",
        "sns.set(rc = {'figure.figsize':(35,20)})\n",
        "sns.heatmap(correlation_data,annot=True)\n",
        "plt.show()"
      ],
      "metadata": {
        "id": "M7-Aqk0gVSVV"
      },
      "execution_count": null,
      "outputs": []
    }
  ],
  "metadata": {
    "kernelspec": {
      "display_name": "Python 3 (ipykernel)",
      "language": "python",
      "name": "python3"
    },
    "language_info": {
      "codemirror_mode": {
        "name": "ipython",
        "version": 3
      },
      "file_extension": ".py",
      "mimetype": "text/x-python",
      "name": "python",
      "nbconvert_exporter": "python",
      "pygments_lexer": "ipython3",
      "version": "3.9.12"
    },
    "colab": {
      "name": "lab_assignment_04.ipynb",
      "provenance": [],
      "collapsed_sections": [],
      "include_colab_link": true
    }
  },
  "nbformat": 4,
  "nbformat_minor": 0
}