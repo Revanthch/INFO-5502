{
  "cells": [
    {
      "cell_type": "markdown",
      "metadata": {
        "id": "view-in-github",
        "colab_type": "text"
      },
      "source": [
        "<a href=\"https://colab.research.google.com/github/Revanthch/INFO-5502/blob/main/practise_lab_assignment_05.ipynb\" target=\"_parent\"><img src=\"https://colab.research.google.com/assets/colab-badge.svg\" alt=\"Open In Colab\"/></a>"
      ]
    },
    {
      "cell_type": "markdown",
      "metadata": {
        "id": "OpvBNXnmRfNK"
      },
      "source": [
        "## The fifth Lab-assignment (07/29/2022 11:59'AM' - 08/02/2022 11:59PM, 50 points in total)"
      ]
    },
    {
      "cell_type": "markdown",
      "metadata": {
        "id": "lRSXfFE0RfNS"
      },
      "source": [
        "The purpose of this exercise is to understand Data Visualization, we will practice how to create visualizations for different datasets bu using different tools."
      ]
    },
    {
      "cell_type": "markdown",
      "metadata": {
        "id": "LpbQXNFrRfNT"
      },
      "source": [
        "Question 1 (50 points). In this questions, you will design a visualization for a small data set and provide a rigorous rationale for your design choices. \n",
        "\n",
        "Every 10 years, the census bureau documents the demographic make-up of the United States, influencing everything from congressional districting to social services. This dataset contains a high-level summary of census data for two years a century apart: 1900 and 2000. The data is a CSV (comma-separated values) file that describes the U.S. population in terms of year, reported sex (1: male, 2: female), age group (binned into 5 year segments from 0-4 years old up to 90+ years old), and the total count of people per group. There are 38 data points per year, for a total of 76 data points.\n",
        "\n",
        "You can download the dataset here: \n",
        "\n",
        "Dataset: https://github.com/suthapalliuday/INFO5502-Summer2022/blob/main/datasets/lab_assignment_05_census.csv\n",
        "\n",
        "Source: https://www.ipums.org/\n",
        "\n",
        "(1)(10 points) Start by choosing a question you'd like a visualization to answer.\n",
        "\n",
        "(2)(30 points) Generate a static visualization (i.e., a single image) that you believe effectively answers that question, and use the question as the title of your graphic.\n",
        "\n",
        "(3)(10 points) Provide a short write-up (no more than 3 paragraphs) describing your design.\n",
        "\n",
        "\n",
        "While you must use the data set given, you are free to transform the data as you see fit. Such transforms may include (but are not limited to) log transformation, computing percentages or averages, grouping elements into new categories, or removing unnecessary variables or records. You are also free to incorporate external data as you see fit. Your chart image should be interpretable without recourse to your short write-up. Do not forget to include title, axis labels or legends as needed!\n",
        "\n",
        "As different visualizations can emphasize different aspects of a data set, you should document what aspects of the data you are attempting to most effectively communicate. In short, what story are you trying to tell? Just as important, also note which aspects of the data might be obscured or down-played due to your visualization design.\n",
        "\n",
        "In your write-up, you should provide a rigorous rationale for your design decisions. Document the visual encodings you used and why they are appropriate for the data and your specific question. These decisions include the choice of visualization type, size, color, scale, and other visual elements, as well as the use of sorting or other data transformations. How do these decisions facilitate effective communication?"
      ]
    },
    {
      "cell_type": "code",
      "execution_count": null,
      "metadata": {
        "id": "KebIZNMRRfNV"
      },
      "outputs": [],
      "source": [
        "# Your answer here (question + explanation):\n",
        "\n",
        "I have decided to brief about the relation between different age groups related to the count of people and also visualization showing the relation between Sex and year,\n",
        "as this used in analysis of data and this helps in filtering the type of category people present"
      ]
    },
    {
      "cell_type": "code",
      "source": [
        "import numpy as np\n",
        "import pandas as pd\n",
        "import matplotlib.pyplot as pt\n",
        "import seaborn as sn\n",
        "%matplotlib inline\n",
        "df = pd.read_csv('lab_assignment_05_census (1).csv')\n",
        "pt.title(\"Visualization related to Sex and Year\")\n",
        "# VISUALIZATION\n",
        "sn.scatterplot(x=\"Age\",y=\"People\",data=df)\n",
        "pt.title(\"Visualization related to Age and People\")\n",
        "pt.ticklabel_format(style='plain', axis='y')\n"
      ],
      "metadata": {
        "colab": {
          "base_uri": "https://localhost:8080/",
          "height": 295
        },
        "id": "DKWJ8_-vXCw8",
        "outputId": "077abc15-9b18-4b69-c334-88cd279f50c5"
      },
      "execution_count": null,
      "outputs": [
        {
          "output_type": "display_data",
          "data": {
            "text/plain": [
              "<Figure size 432x288 with 1 Axes>"
            ],
            "image/png": "[encoded data removed]"
          },
          "metadata": {
            "needs_background": "light"
          }
        }
      ]
    },
    {
      "cell_type": "code",
      "source": [
        "sn.boxplot(x=\"Sex\",y=\"Year\",data=df)"
      ],
      "metadata": {
        "colab": {
          "base_uri": "https://localhost:8080/",
          "height": 296
        },
        "id": "1_xmiKAiZVd1",
        "outputId": "4f89c44b-029a-4271-e869-0a80c5662013"
      },
      "execution_count": null,
      "outputs": [
        {
          "output_type": "execute_result",
          "data": {
            "text/plain": [
              "<matplotlib.axes._subplots.AxesSubplot at 0x7fdb29756c10>"
            ]
          },
          "metadata": {},
          "execution_count": 17
        },
        {
          "output_type": "display_data",
          "data": {
            "text/plain": [
              "<Figure size 432x288 with 1 Axes>"
            ],
            "image/png": "[encoded data removed]"
          },
          "metadata": {
            "needs_background": "light"
          }
        }
      ]
    },
    {
      "cell_type": "code",
      "source": [
        "# Your answer here (interpretation of the results):\n",
        "# In first visualization, We can see here that Age is taken on X-Axis and People on Y-Axis,In this graph it is clear that the count of people is more at only age level 5,and as the age increases the people count is decreasing.\n",
        "#And also we can see that there are 3 age levels which are 0,10,35 in which the people count is almost approximate.\n",
        "# The least value of people is seen at the age 90.\n",
        "# We can also notice that the relation between two variables is not linear and negative.\n",
        "\n",
        "# In respect to second graph, this dataset contains sex ,age, number of people and the respective years. \n",
        "# Analysis has been made on the number of people for given age groups.\n",
        "# This particular graph could be useful to analyse the maximum number of people for particular age group\n",
        "# The insights resulted from the graph can be useful for the analysts to categorise products based on age groups\n",
        "# Noticably the age group of 35-45years people are more than other groups\n"
      ],
      "metadata": {
        "id": "FFCxzvOriaff"
      },
      "execution_count": null,
      "outputs": []
    }
  ],
  "metadata": {
    "kernelspec": {
      "display_name": "Python 3 (ipykernel)",
      "language": "python",
      "name": "python3"
    },
    "language_info": {
      "codemirror_mode": {
        "name": "ipython",
        "version": 3
      },
      "file_extension": ".py",
      "mimetype": "text/x-python",
      "name": "python",
      "nbconvert_exporter": "python",
      "pygments_lexer": "ipython3",
      "version": "3.9.12"
    },
    "colab": {
      "name": "practise_lab_assignment_05.ipynb",
      "provenance": [],
      "collapsed_sections": [],
      "include_colab_link": true
    }
  },
  "nbformat": 4,
  "nbformat_minor": 0
}